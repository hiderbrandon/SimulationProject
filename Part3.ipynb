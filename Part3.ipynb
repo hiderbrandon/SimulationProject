{
  "cells": [
    {
      "cell_type": "markdown",
      "metadata": {
        "id": "view-in-github",
        "colab_type": "text"
      },
      "source": [
        "<a href=\"https://colab.research.google.com/github/hiderbrandon/SimulationProject/blob/develop/Part3.ipynb\" target=\"_parent\"><img src=\"https://colab.research.google.com/assets/colab-badge.svg\" alt=\"Open In Colab\"/></a>"
      ]
    },
    {
      "cell_type": "markdown",
      "source": [
        "#Montando el Helper.py\n"
      ],
      "metadata": {
        "id": "dHGfkD_PwRIv"
      }
    },
    {
      "cell_type": "markdown",
      "metadata": {
        "id": "qzdf9O8_FJ-l"
      },
      "source": [
        "# Training Neural Networks\n",
        "\n",
        "The network we built in the previous part isn't so smart, it doesn't know anything about our handwritten digits. Neural networks with non-linear activations work like universal function approximators. There is some function that maps your input to the output. For example, images of handwritten digits to class probabilities. The power of neural networks is that we can train them to approximate this function, and basically any function given enough data and compute time.\n",
        "\n",
        "<img src=\"https://github.com/hiderbrandon/SimulationProject/blob/develop/assets/function_approx.png?raw=1\" width=500px>\n",
        "\n",
        "At first the network is naive, it doesn't know the function mapping the inputs to the outputs. We train the network by showing it examples of real data, then adjusting the network parameters such that it approximates this function.\n",
        "\n",
        "To find these parameters, we need to know how poorly the network is predicting the real outputs. For this we calculate a **loss function** (also called the cost), a measure of our prediction error. For example, the mean squared loss is often used in regression and binary classification problems\n",
        "\n",
        "$$\n",
        "\\large \\ell = \\frac{1}{2n}\\sum_i^n{\\left(y_i - \\hat{y}_i\\right)^2}\n",
        "$$\n",
        "\n",
        "where $n$ is the number of training examples, $y_i$ are the true labels, and $\\hat{y}_i$ are the predicted labels.\n",
        "\n",
        "By minimizing this loss with respect to the network parameters, we can find configurations where the loss is at a minimum and the network is able to predict the correct labels with high accuracy. We find this minimum using a process called **gradient descent**. The gradient is the slope of the loss function and points in the direction of fastest change. To get to the minimum in the least amount of time, we then want to follow the gradient (downwards). You can think of this like descending a mountain by following the steepest slope to the base.\n",
        "\n",
        "<img src='https://github.com/hiderbrandon/SimulationProject/blob/develop/assets/gradient_descent.png?raw=1' width=350px>"
      ]
    },
    {
      "cell_type": "markdown",
      "metadata": {
        "id": "D1BQU3UBFJ-p"
      },
      "source": [
        "## Backpropagation\n",
        "\n",
        "For single layer networks, gradient descent is straightforward to implement. However, it's more complicated for deeper, multilayer neural networks like the one we've built. Complicated enough that it took about 30 years before researchers figured out how to train multilayer networks.\n",
        "\n",
        "Training multilayer networks is done through **backpropagation** which is really just an application of the chain rule from calculus. It's easiest to understand if we convert a two layer network into a graph representation.\n",
        "\n",
        "<img src='https://github.com/hiderbrandon/SimulationProject/blob/develop/assets/backprop_diagram.png?raw=1' width=550px>\n",
        "\n",
        "In the forward pass through the network, our data and operations go from bottom to top here. We pass the input $x$ through a linear transformation $L_1$ with weights $W_1$ and biases $b_1$. The output then goes through the sigmoid operation $S$ and another linear transformation $L_2$. Finally we calculate the loss $\\ell$. We use the loss as a measure of how bad the network's predictions are. The goal then is to adjust the weights and biases to minimize the loss.\n",
        "\n",
        "To train the weights with gradient descent, we propagate the gradient of the loss backwards through the network. Each operation has some gradient between the inputs and outputs. As we send the gradients backwards, we multiply the incoming gradient with the gradient for the operation. Mathematically, this is really just calculating the gradient of the loss with respect to the weights using the chain rule.\n",
        "\n",
        "$$\n",
        "\\large \\frac{\\partial \\ell}{\\partial W_1} = \\frac{\\partial L_1}{\\partial W_1} \\frac{\\partial S}{\\partial L_1} \\frac{\\partial L_2}{\\partial S} \\frac{\\partial \\ell}{\\partial L_2}\n",
        "$$\n",
        "\n",
        "**Note:** I'm glossing over a few details here that require some knowledge of vector calculus, but they aren't necessary to understand what's going on.\n",
        "\n",
        "We update our weights using this gradient with some learning rate $\\alpha$.\n",
        "\n",
        "$$\n",
        "\\large W^\\prime_1 = W_1 - \\alpha \\frac{\\partial \\ell}{\\partial W_1}\n",
        "$$\n",
        "\n",
        "The learning rate $\\alpha$ is set such that the weight update steps are small enough that the iterative method settles in a minimum."
      ]
    },
    {
      "cell_type": "markdown",
      "metadata": {
        "id": "8xfQ2AIwFJ-q"
      },
      "source": [
        "## Losses in PyTorch\n",
        "\n",
        "Let's start by seeing how we calculate the loss with PyTorch. Through the `nn` module, PyTorch provides losses such as the cross-entropy loss (`nn.CrossEntropyLoss`). You'll usually see the loss assigned to `criterion`. As noted in the last part, with a classification problem such as MNIST, we're using the softmax function to predict class probabilities. With a softmax output, you want to use cross-entropy as the loss. To actually calculate the loss, you first define the criterion then pass in the output of your network and the correct labels.\n",
        "\n",
        "Something really important to note here. Looking at [the documentation for `nn.CrossEntropyLoss`](https://pytorch.org/docs/stable/nn.html#torch.nn.CrossEntropyLoss),\n",
        "\n",
        "> This criterion combines `nn.LogSoftmax()` and `nn.NLLLoss()` in one single class.\n",
        ">\n",
        "> The input is expected to contain scores for each class.\n",
        "\n",
        "This means we need to pass in the raw output of our network into the loss, not the output of the softmax function. This raw output is usually called the *logits* or *scores*. We use the logits because softmax gives you probabilities which will often be very close to zero or one but floating-point numbers can't accurately represent values near zero or one ([read more here](https://docs.python.org/3/tutorial/floatingpoint.html)). It's usually best to avoid doing calculations with probabilities, typically we use log-probabilities."
      ]
    },
    {
      "cell_type": "code",
      "execution_count": 1,
      "metadata": {
        "id": "pEOzOljrFJ-r"
      },
      "outputs": [],
      "source": [
        "# The MNIST datasets are hosted on yann.lecun.com that has moved under CloudFlare protection\n",
        "# Run this script to enable the datasets download\n",
        "# Reference: https://github.com/pytorch/vision/issues/1938\n",
        "\n",
        "from six.moves import urllib\n",
        "opener = urllib.request.build_opener()\n",
        "opener.addheaders = [('User-agent', 'Mozilla/5.0')]\n",
        "urllib.request.install_opener(opener)"
      ]
    },
    {
      "cell_type": "code",
      "execution_count": 2,
      "metadata": {
        "id": "7nG_0MSZFJ-s",
        "outputId": "bb437f29-a94f-4be3-eea9-96fa6406ac64",
        "colab": {
          "base_uri": "https://localhost:8080/"
        }
      },
      "outputs": [
        {
          "output_type": "stream",
          "name": "stdout",
          "text": [
            "Dataset EMNIST cargado con 124800 muestras de entrenamiento.\n"
          ]
        }
      ],
      "source": [
        "from torchvision import datasets, transforms\n",
        "import torch\n",
        "\n",
        "# Define a transform to normalize the data\n",
        "transform = transforms.Compose([\n",
        "    transforms.ToTensor(),\n",
        "    transforms.Normalize((0.5,), (0.5,)),  # Normalización a rango [-1, 1]\n",
        "])\n",
        "\n",
        "# Descargar y cargar el conjunto de entrenamiento EMNIST (split='letters')\n",
        "trainset = datasets.EMNIST(root='~/.pytorch/EMNIST_data/', split='letters', download=True, train=True, transform=transform)\n",
        "trainloader = torch.utils.data.DataLoader(trainset, batch_size=64, shuffle=True)\n",
        "\n",
        "# Verificar la configuración\n",
        "print(f\"Dataset EMNIST cargado con {len(trainset)} muestras de entrenamiento.\")\n"
      ]
    },
    {
      "cell_type": "markdown",
      "metadata": {
        "id": "t2c6PzPfFJ-t"
      },
      "source": [
        "### Note\n",
        "If you haven't seen `nn.Sequential` yet, please finish the end of the Part 2 notebook."
      ]
    },
    {
      "cell_type": "code",
      "execution_count": 3,
      "metadata": {
        "colab": {
          "base_uri": "https://localhost:8080/"
        },
        "id": "3j35kRF_FJ-t",
        "outputId": "8541e626-ccca-4f7f-b542-f920669b8fb5"
      },
      "outputs": [
        {
          "output_type": "stream",
          "name": "stdout",
          "text": [
            "tensor(3.2522, grad_fn=<NllLossBackward0>)\n"
          ]
        }
      ],
      "source": [
        "from torch import nn\n",
        "\n",
        "# Construir un modelo feed-forward\n",
        "model = nn.Sequential(\n",
        "    nn.Linear(784, 128),\n",
        "    nn.ReLU(),\n",
        "    nn.Linear(128, 64),\n",
        "    nn.ReLU(),\n",
        "    nn.Linear(64, 26)  # Cambiar de 10 a 26 para EMNIST (letras)\n",
        ")\n",
        "\n",
        "# Definir la función de pérdida\n",
        "criterion = nn.CrossEntropyLoss()\n",
        "\n",
        "# Obtener los datos\n",
        "dataiter = iter(trainloader)\n",
        "images, labels = next(dataiter)\n",
        "\n",
        "# Ajustar las etiquetas para que estén en el rango [0, 25]\n",
        "labels = labels - 1  # Convierte de rango [1, 26] a [0, 25]\n",
        "\n",
        "# Aplanar las imágenes\n",
        "images = images.view(images.shape[0], -1)\n",
        "\n",
        "# Propagación hacia adelante, obtener los logits\n",
        "logits = model(images)\n",
        "\n",
        "# Calcular la pérdida usando los logits y las etiquetas ajustadas\n",
        "loss = criterion(logits, labels)\n",
        "\n",
        "print(loss)\n"
      ]
    },
    {
      "cell_type": "markdown",
      "metadata": {
        "id": "_xYFFhJBFJ-u"
      },
      "source": [
        "In my experience it's more convenient to build the model with a log-softmax output using `nn.LogSoftmax` or `F.log_softmax` ([documentation](https://pytorch.org/docs/stable/nn.html#torch.nn.LogSoftmax)). Then you can get the actual probabilities by taking the exponential `torch.exp(output)`. With a log-softmax output, you want to use the negative log likelihood loss, `nn.NLLLoss` ([documentation](https://pytorch.org/docs/stable/nn.html#torch.nn.NLLLoss)).\n",
        "\n",
        ">**Exercise:** Build a model that returns the log-softmax as the output and calculate the loss using the negative log likelihood loss. Note that for `nn.LogSoftmax` and `F.log_softmax` you'll need to set the `dim` keyword argument appropriately. `dim=0` calculates softmax across the rows, so each column sums to 1, while `dim=1` calculates across the columns so each row sums to 1. Think about what you want the output to be and choose `dim` appropriately."
      ]
    },
    {
      "cell_type": "code",
      "execution_count": 4,
      "metadata": {
        "colab": {
          "base_uri": "https://localhost:8080/"
        },
        "id": "fq7FZ2X2FJ-u",
        "outputId": "14815838-3963-4b62-9bcf-a5691724eab5"
      },
      "outputs": [
        {
          "output_type": "stream",
          "name": "stdout",
          "text": [
            "tensor(3.2760, grad_fn=<NllLossBackward0>)\n"
          ]
        }
      ],
      "source": [
        "from torch import nn\n",
        "\n",
        "# Construir un modelo feed-forward\n",
        "model = nn.Sequential(\n",
        "    nn.Linear(784, 128),\n",
        "    nn.ReLU(),\n",
        "    nn.Linear(128, 64),\n",
        "    nn.ReLU(),\n",
        "    nn.Linear(64, 26),  # Cambiar a 26 para EMNIST (letras)\n",
        "    nn.LogSoftmax(dim=1)  # Agregar LogSoftmax para usar NLLLoss\n",
        ")\n",
        "\n",
        "# Definir la función de pérdida\n",
        "criterion = nn.NLLLoss()\n",
        "\n",
        "# Obtener los datos\n",
        "dataiter = iter(trainloader)\n",
        "images, labels = next(dataiter)\n",
        "\n",
        "# Ajustar las etiquetas al rango [0, 25]\n",
        "labels = labels - 1  # EMNIST tiene etiquetas en el rango [1, 26]\n",
        "\n",
        "# Aplanar las imágenes\n",
        "images = images.view(images.shape[0], -1)\n",
        "\n",
        "# Propagación hacia adelante, obtener los logits\n",
        "logits = model(images)\n",
        "\n",
        "# Calcular la pérdida\n",
        "loss = criterion(logits, labels)\n",
        "\n",
        "print(loss)\n"
      ]
    },
    {
      "cell_type": "markdown",
      "metadata": {
        "id": "yYA2t1rRFJ-u"
      },
      "source": [
        "## Autograd\n",
        "\n",
        "Now that we know how to calculate a loss, how do we use it to perform backpropagation? Torch provides a module, `autograd`, for automatically calculating the gradients of tensors. We can use it to calculate the gradients of all our parameters with respect to the loss. Autograd works by keeping track of operations performed on tensors, then going backwards through those operations, calculating gradients along the way. To make sure PyTorch keeps track of operations on a tensor and calculates the gradients, you need to set `requires_grad = True` on a tensor. You can do this at creation with the `requires_grad` keyword, or at any time with `x.requires_grad_(True)`.\n",
        "\n",
        "You can turn off gradients for a block of code with the `torch.no_grad()` content:\n",
        "```python\n",
        "x = torch.zeros(1, requires_grad=True)\n",
        ">>> with torch.no_grad():\n",
        "...     y = x * 2\n",
        ">>> y.requires_grad\n",
        "False\n",
        "```\n",
        "\n",
        "Also, you can turn on or off gradients altogether with `torch.set_grad_enabled(True|False)`.\n",
        "\n",
        "The gradients are computed with respect to some variable `z` with `z.backward()`. This does a backward pass through the operations that created `z`."
      ]
    },
    {
      "cell_type": "code",
      "execution_count": 5,
      "metadata": {
        "id": "pMKcv75dFJ-v",
        "colab": {
          "base_uri": "https://localhost:8080/"
        },
        "outputId": "8059a392-597c-4dd3-c885-9bbd76a93078"
      },
      "outputs": [
        {
          "output_type": "stream",
          "name": "stdout",
          "text": [
            "tensor([[-0.4107,  1.5696],\n",
            "        [-1.6097,  0.3228]], requires_grad=True)\n"
          ]
        }
      ],
      "source": [
        "x = torch.randn(2,2, requires_grad=True)\n",
        "print(x)"
      ]
    },
    {
      "cell_type": "code",
      "execution_count": 6,
      "metadata": {
        "id": "zth0dhvbFJ-v",
        "colab": {
          "base_uri": "https://localhost:8080/"
        },
        "outputId": "9f08e4af-98d5-418e-de45-cb1afe50c8c7"
      },
      "outputs": [
        {
          "output_type": "stream",
          "name": "stdout",
          "text": [
            "tensor([[0.1687, 2.4636],\n",
            "        [2.5912, 0.1042]], grad_fn=<PowBackward0>)\n"
          ]
        }
      ],
      "source": [
        "y = x**2\n",
        "print(y)"
      ]
    },
    {
      "cell_type": "markdown",
      "metadata": {
        "id": "hzW_L-1sFJ-v"
      },
      "source": [
        "Below we can see the operation that created `y`, a power operation `PowBackward0`."
      ]
    },
    {
      "cell_type": "code",
      "execution_count": 7,
      "metadata": {
        "id": "p5V_8yIbFJ-w",
        "colab": {
          "base_uri": "https://localhost:8080/"
        },
        "outputId": "1e55a0a1-623d-43f5-b422-04d009205d85"
      },
      "outputs": [
        {
          "output_type": "stream",
          "name": "stdout",
          "text": [
            "<PowBackward0 object at 0x782dab556d10>\n"
          ]
        }
      ],
      "source": [
        "## grad_fn shows the function that generated this variable\n",
        "print(y.grad_fn)"
      ]
    },
    {
      "cell_type": "markdown",
      "metadata": {
        "id": "O3sWDP4iFJ-w"
      },
      "source": [
        "The autograd module keeps track of these operations and knows how to calculate the gradient for each one. In this way, it's able to calculate the gradients for a chain of operations, with respect to any one tensor. Let's reduce the tensor `y` to a scalar value, the mean."
      ]
    },
    {
      "cell_type": "code",
      "execution_count": 8,
      "metadata": {
        "id": "QXbkzOWbFJ-w",
        "colab": {
          "base_uri": "https://localhost:8080/"
        },
        "outputId": "5f6b1c65-5d12-4842-8843-77c5688000e0"
      },
      "outputs": [
        {
          "output_type": "stream",
          "name": "stdout",
          "text": [
            "tensor(1.3319, grad_fn=<MeanBackward0>)\n"
          ]
        }
      ],
      "source": [
        "z = y.mean()\n",
        "print(z)"
      ]
    },
    {
      "cell_type": "markdown",
      "metadata": {
        "id": "iPisBEVSFJ-w"
      },
      "source": [
        "You can check the gradients for `x` and `y` but they are empty currently."
      ]
    },
    {
      "cell_type": "code",
      "execution_count": 9,
      "metadata": {
        "id": "Zbqw0r-UFJ-x",
        "colab": {
          "base_uri": "https://localhost:8080/"
        },
        "outputId": "203cb523-25ce-43b9-da6a-bc0e73dc6056"
      },
      "outputs": [
        {
          "output_type": "stream",
          "name": "stdout",
          "text": [
            "None\n"
          ]
        }
      ],
      "source": [
        "print(x.grad)"
      ]
    },
    {
      "cell_type": "markdown",
      "metadata": {
        "id": "ebDpjicEFJ-x"
      },
      "source": [
        "To calculate the gradients, you need to run the `.backward` method on a Variable, `z` for example. This will calculate the gradient for `z` with respect to `x`\n",
        "\n",
        "$$\n",
        "\\frac{\\partial z}{\\partial x} = \\frac{\\partial}{\\partial x}\\left[\\frac{1}{n}\\sum_i^n x_i^2\\right] = \\frac{x}{2}\n",
        "$$"
      ]
    },
    {
      "cell_type": "code",
      "execution_count": 10,
      "metadata": {
        "id": "ZvVprF_xFJ-x",
        "colab": {
          "base_uri": "https://localhost:8080/"
        },
        "outputId": "815295ea-f317-4109-e325-02e80b65110f"
      },
      "outputs": [
        {
          "output_type": "stream",
          "name": "stdout",
          "text": [
            "tensor([[-0.2054,  0.7848],\n",
            "        [-0.8049,  0.1614]])\n",
            "tensor([[-0.2054,  0.7848],\n",
            "        [-0.8049,  0.1614]], grad_fn=<DivBackward0>)\n"
          ]
        }
      ],
      "source": [
        "z.backward()\n",
        "print(x.grad)\n",
        "print(x/2)"
      ]
    },
    {
      "cell_type": "markdown",
      "metadata": {
        "id": "FW6J2G_oFJ-y"
      },
      "source": [
        "These gradients calculations are particularly useful for neural networks. For training we need the gradients of the cost with respect to the weights. With PyTorch, we run data forward through the network to calculate the loss, then, go backwards to calculate the gradients with respect to the loss. Once we have the gradients we can make a gradient descent step."
      ]
    },
    {
      "cell_type": "markdown",
      "metadata": {
        "id": "ynNHHq0-FJ-y"
      },
      "source": [
        "## Loss and Autograd together\n",
        "\n",
        "When we create a network with PyTorch, all of the parameters are initialized with `requires_grad = True`. This means that when we calculate the loss and call `loss.backward()`, the gradients for the parameters are calculated. These gradients are used to update the weights with gradient descent. Below you can see an example of calculating the gradients using a backwards pass."
      ]
    },
    {
      "cell_type": "code",
      "execution_count": 11,
      "metadata": {
        "id": "WlnI6WxLFJ-y",
        "outputId": "475f73ca-c987-48e2-f40d-e774294a23db",
        "colab": {
          "base_uri": "https://localhost:8080/"
        }
      },
      "outputs": [
        {
          "output_type": "stream",
          "name": "stdout",
          "text": [
            "tensor(3.2601, grad_fn=<NllLossBackward0>)\n"
          ]
        }
      ],
      "source": [
        "from torch import nn\n",
        "\n",
        "# Construir un modelo feed-forward\n",
        "model = nn.Sequential(\n",
        "    nn.Linear(784, 128),\n",
        "    nn.ReLU(),\n",
        "    nn.Linear(128, 64),\n",
        "    nn.ReLU(),\n",
        "    nn.Linear(64, 26),  # Cambiar a 26 salidas para EMNIST (letras)\n",
        "    nn.LogSoftmax(dim=1)\n",
        ")\n",
        "\n",
        "# Definir la función de pérdida\n",
        "criterion = nn.NLLLoss()\n",
        "\n",
        "# Obtener un lote de datos\n",
        "dataiter = iter(trainloader)\n",
        "images, labels = next(dataiter)\n",
        "\n",
        "# Ajustar las etiquetas al rango [0, 25]\n",
        "labels = labels - 1  # Convertir de [1, 26] a [0, 25]\n",
        "\n",
        "# Aplanar las imágenes\n",
        "images = images.view(images.shape[0], -1)\n",
        "\n",
        "# Propagación hacia adelante, obtener los logits\n",
        "logits = model(images)\n",
        "\n",
        "# Calcular la pérdida\n",
        "loss = criterion(logits, labels)\n",
        "\n",
        "print(loss)\n"
      ]
    },
    {
      "cell_type": "code",
      "execution_count": 12,
      "metadata": {
        "id": "6guq2desFJ-y",
        "colab": {
          "base_uri": "https://localhost:8080/"
        },
        "outputId": "302d6e8b-674c-469b-b62f-c6ffc399efbd"
      },
      "outputs": [
        {
          "output_type": "stream",
          "name": "stdout",
          "text": [
            "Before backward pass: \n",
            " None\n",
            "After backward pass: \n",
            " tensor([[-7.7464e-04, -7.7464e-04, -7.7464e-04,  ..., -7.7464e-04,\n",
            "         -7.7464e-04, -7.7464e-04],\n",
            "        [-1.4844e-04, -1.4844e-04, -1.4844e-04,  ..., -1.4844e-04,\n",
            "         -1.4844e-04, -1.4844e-04],\n",
            "        [ 1.9238e-03,  1.9238e-03,  1.9238e-03,  ...,  1.9238e-03,\n",
            "          1.9238e-03,  1.9238e-03],\n",
            "        ...,\n",
            "        [ 4.9463e-04,  4.9463e-04,  4.9463e-04,  ...,  4.9463e-04,\n",
            "          4.9463e-04,  4.9463e-04],\n",
            "        [ 1.3478e-03,  1.3478e-03,  1.3478e-03,  ...,  1.3478e-03,\n",
            "          1.3478e-03,  1.3478e-03],\n",
            "        [-7.2513e-06, -7.2513e-06, -7.2513e-06,  ..., -7.2513e-06,\n",
            "         -7.2513e-06, -7.2513e-06]])\n"
          ]
        }
      ],
      "source": [
        "print('Before backward pass: \\n', model[0].weight.grad)\n",
        "\n",
        "loss.backward()\n",
        "\n",
        "print('After backward pass: \\n', model[0].weight.grad)"
      ]
    },
    {
      "cell_type": "markdown",
      "metadata": {
        "id": "OMAJzEVFFJ-y"
      },
      "source": [
        "## Training the network!\n",
        "\n",
        "There's one last piece we need to start training, an optimizer that we'll use to update the weights with the gradients. We get these from PyTorch's [`optim` package](https://pytorch.org/docs/stable/optim.html). For example we can use stochastic gradient descent with `optim.SGD`. You can see how to define an optimizer below."
      ]
    },
    {
      "cell_type": "code",
      "execution_count": 13,
      "metadata": {
        "id": "j-1Nouq7FJ-z"
      },
      "outputs": [],
      "source": [
        "from torch import optim\n",
        "\n",
        "# Optimizers require the parameters to optimize and a learning rate\n",
        "optimizer = optim.SGD(model.parameters(), lr=0.01)"
      ]
    },
    {
      "cell_type": "markdown",
      "metadata": {
        "id": "NUDjbbyTFJ-z"
      },
      "source": [
        "Now we know how to use all the individual parts so it's time to see how they work together. Let's consider just one learning step before looping through all the data. The general process with PyTorch:\n",
        "\n",
        "* Make a forward pass through the network\n",
        "* Use the network output to calculate the loss\n",
        "* Perform a backward pass through the network with `loss.backward()` to calculate the gradients\n",
        "* Take a step with the optimizer to update the weights\n",
        "\n",
        "Below I'll go through one training step and print out the weights and gradients so you can see how it changes. Note that I have a line of code `optimizer.zero_grad()`. When you do multiple backwards passes with the same parameters, the gradients are accumulated. This means that you need to zero the gradients on each training pass or you'll retain gradients from previous training batches."
      ]
    },
    {
      "cell_type": "code",
      "execution_count": 14,
      "metadata": {
        "id": "OnMzSmBKFJ-z",
        "colab": {
          "base_uri": "https://localhost:8080/"
        },
        "outputId": "7b0882d4-7a3a-4ba3-b4c2-7f4590e1db3a"
      },
      "outputs": [
        {
          "output_type": "stream",
          "name": "stdout",
          "text": [
            "Initial weights -  Parameter containing:\n",
            "tensor([[-0.0203, -0.0002,  0.0268,  ...,  0.0117,  0.0295,  0.0236],\n",
            "        [ 0.0321, -0.0025,  0.0241,  ...,  0.0130,  0.0071, -0.0299],\n",
            "        [ 0.0004, -0.0110,  0.0101,  ..., -0.0115, -0.0125,  0.0036],\n",
            "        ...,\n",
            "        [-0.0193, -0.0128, -0.0153,  ...,  0.0139,  0.0248, -0.0134],\n",
            "        [ 0.0234, -0.0316,  0.0060,  ...,  0.0241,  0.0185, -0.0324],\n",
            "        [ 0.0252, -0.0048,  0.0235,  ...,  0.0137,  0.0100,  0.0303]],\n",
            "       requires_grad=True)\n",
            "Gradient - tensor([[-0.0013, -0.0013, -0.0013,  ..., -0.0013, -0.0013, -0.0013],\n",
            "        [ 0.0007,  0.0007,  0.0007,  ...,  0.0007,  0.0007,  0.0007],\n",
            "        [ 0.0003,  0.0003,  0.0003,  ...,  0.0003,  0.0003,  0.0003],\n",
            "        ...,\n",
            "        [ 0.0002,  0.0002,  0.0002,  ...,  0.0002,  0.0002,  0.0002],\n",
            "        [ 0.0031,  0.0031,  0.0031,  ...,  0.0031,  0.0031,  0.0031],\n",
            "        [ 0.0000,  0.0000,  0.0000,  ...,  0.0000,  0.0000,  0.0000]])\n"
          ]
        }
      ],
      "source": [
        "# Ver los pesos iniciales\n",
        "print('Initial weights - ', model[0].weight)\n",
        "\n",
        "# Obtener un lote de datos\n",
        "dataiter = iter(trainloader)\n",
        "images, labels = next(dataiter)\n",
        "\n",
        "# Ajustar las etiquetas al rango [0, 25]\n",
        "labels = labels - 1  # Convertir etiquetas de [1, 26] a [0, 25]\n",
        "\n",
        "# Aplanar las imágenes para que coincidan con la entrada del modelo (784 características)\n",
        "images = images.view(images.shape[0], 784)\n",
        "\n",
        "# Limpiar los gradientes acumulados\n",
        "optimizer.zero_grad()\n",
        "\n",
        "# Propagación hacia adelante, retropropagación, y actualización de pesos\n",
        "output = model(images)\n",
        "loss = criterion(output, labels)\n",
        "loss.backward()\n",
        "\n",
        "# Mostrar gradiente de los pesos de la primera capa\n",
        "print('Gradient -', model[0].weight.grad)\n"
      ]
    },
    {
      "cell_type": "code",
      "execution_count": 15,
      "metadata": {
        "id": "aCYjwC25FJ-z",
        "colab": {
          "base_uri": "https://localhost:8080/"
        },
        "outputId": "1680bc98-e793-4c07-b979-986a94174227"
      },
      "outputs": [
        {
          "output_type": "stream",
          "name": "stdout",
          "text": [
            "Updated weights -  Parameter containing:\n",
            "tensor([[-0.0203, -0.0002,  0.0268,  ...,  0.0118,  0.0295,  0.0236],\n",
            "        [ 0.0321, -0.0025,  0.0241,  ...,  0.0130,  0.0071, -0.0299],\n",
            "        [ 0.0004, -0.0110,  0.0101,  ..., -0.0115, -0.0125,  0.0036],\n",
            "        ...,\n",
            "        [-0.0193, -0.0128, -0.0153,  ...,  0.0139,  0.0248, -0.0134],\n",
            "        [ 0.0234, -0.0316,  0.0060,  ...,  0.0240,  0.0185, -0.0324],\n",
            "        [ 0.0252, -0.0048,  0.0235,  ...,  0.0137,  0.0100,  0.0303]],\n",
            "       requires_grad=True)\n"
          ]
        }
      ],
      "source": [
        "# Take an update step and view the new weights\n",
        "optimizer.step()\n",
        "print('Updated weights - ', model[0].weight)"
      ]
    },
    {
      "cell_type": "markdown",
      "metadata": {
        "id": "RAFem_fIFJ-0"
      },
      "source": [
        "### Training for real\n",
        "\n",
        "Now we'll put this algorithm into a loop so we can go through all the images. Some nomenclature, one pass through the entire dataset is called an *epoch*. So here we're going to loop through `trainloader` to get our training batches. For each batch, we'll be doing a training pass where we calculate the loss, do a backwards pass, and update the weights.\n",
        "\n",
        ">**Exercise:** Implement the training pass for our network. If you implemented it correctly, you should see the training loss drop with each epoch."
      ]
    },
    {
      "cell_type": "code",
      "execution_count": 16,
      "metadata": {
        "id": "O6kk9jDrFJ-0",
        "colab": {
          "base_uri": "https://localhost:8080/"
        },
        "outputId": "32d035ed-974b-4c6a-8567-482216a74646"
      },
      "outputs": [
        {
          "output_type": "stream",
          "name": "stdout",
          "text": [
            "Training loss: 2.8749400028204306\n",
            "Training loss: 1.6978126034369836\n",
            "Training loss: 1.340455427047534\n",
            "Training loss: 1.2115963369760758\n",
            "Training loss: 1.13102170421527\n"
          ]
        }
      ],
      "source": [
        "## Your solution here\n",
        "\n",
        "model = nn.Sequential(nn.Linear(784, 128),\n",
        "                      nn.ReLU(),\n",
        "                      nn.Linear(128, 64),\n",
        "                      nn.ReLU(),\n",
        "                      nn.Linear(64, 26),\n",
        "                      nn.LogSoftmax(dim=1))\n",
        "\n",
        "criterion = nn.NLLLoss()\n",
        "optimizer = optim.SGD(model.parameters(), lr=0.003)\n",
        "\n",
        "epochs = 5\n",
        "for e in range(epochs):\n",
        "    running_loss = 0\n",
        "    for images, labels in trainloader:\n",
        "        # Flatten MNIST images into a 784 long vector\n",
        "        images = images.view(images.shape[0], -1)\n",
        "\n",
        "        # TODO: Training pass\n",
        "        # Clear the gradients, do this because gradients are accumulated\n",
        "        optimizer.zero_grad()\n",
        "        #Forward pass, then backward pass, then update weights\n",
        "        output = model(images)\n",
        "        loss = criterion(output, labels -1 )\n",
        "        loss.backward()\n",
        "        optimizer.step()\n",
        "\n",
        "\n",
        "        running_loss += loss.item()\n",
        "    else:\n",
        "        print(f\"Training loss: {running_loss/len(trainloader)}\")"
      ]
    },
    {
      "cell_type": "markdown",
      "metadata": {
        "id": "_g0QyuYDFJ-0"
      },
      "source": [
        "With the network trained, we can check out it's predictions."
      ]
    },
    {
      "cell_type": "code",
      "execution_count": 18,
      "metadata": {
        "id": "U61CTXYOFJ-0",
        "colab": {
          "base_uri": "https://localhost:8080/",
          "height": 791
        },
        "outputId": "c59907a7-44dd-4b14-b598-2bec7d480e88"
      },
      "outputs": [
        {
          "output_type": "display_data",
          "data": {
            "text/plain": [
              "<Figure size 600x900 with 2 Axes>"
            ],
            "image/png": "[encoded data removed]"
          },
          "metadata": {}
        }
      ],
      "source": [
        "%matplotlib inline\n",
        "import helper\n",
        "\n",
        "dataiter = iter(trainloader)\n",
        "images, labels = next(dataiter)\n",
        "\n",
        "img = images[0].view(1, 784)\n",
        "# Turn off gradients to speed up this part\n",
        "with torch.no_grad():\n",
        "    logps = model(img)\n",
        "\n",
        "# Output of the network are log-probabilities, need to take exponential for probabilities\n",
        "ps = torch.exp(logps)\n",
        "helper.view_classify_letters(img.view(1, 28, 28), ps ,version=\"Custom\")"
      ]
    },
    {
      "cell_type": "markdown",
      "metadata": {
        "id": "cvqhPFoDFJ-1"
      },
      "source": [
        "Now our network is brilliant. It can accurately predict the digits in our images. Next up you'll write the code for training a neural network on a more complex dataset."
      ]
    }
  ],
  "metadata": {
    "kernelspec": {
      "display_name": "Python 3",
      "language": "python",
      "name": "python3"
    },
    "language_info": {
      "codemirror_mode": {
        "name": "ipython",
        "version": 3
      },
      "file_extension": ".py",
      "mimetype": "text/x-python",
      "name": "python",
      "nbconvert_exporter": "python",
      "pygments_lexer": "ipython3",
      "version": "3.7.1"
    },
    "colab": {
      "provenance": [],
      "include_colab_link": true
    }
  },
  "nbformat": 4,
  "nbformat_minor": 0
}